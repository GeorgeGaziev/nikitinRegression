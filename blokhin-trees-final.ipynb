{
 "cells": [
  {
   "cell_type": "code",
   "execution_count": 91,
   "metadata": {},
   "outputs": [],
   "source": [
    "import pandas as pd\n",
    "import numpy as np\n",
    "\n",
    "import category_encoders as ce\n",
    "import seaborn as sns\n",
    "\n",
    "from sklearn.model_selection import train_test_split, cross_val_score, GridSearchCV\n",
    "\n",
    "from sklearn.ensemble import   (AdaBoostRegressor, \n",
    "                                ExtraTreesRegressor, \n",
    "                                GradientBoostingRegressor, \n",
    "                                RandomForestRegressor)\n",
    "\n",
    "from sklearn.preprocessing import StandardScaler\n",
    "\n",
    "from sklearn.metrics import r2_score, mean_squared_error, make_scorer\n",
    "\n",
    "from hyperopt import hp, tpe\n",
    "from hyperopt.fmin import fmin\n"
   ]
  },
  {
   "cell_type": "code",
   "execution_count": 2,
   "metadata": {},
   "outputs": [],
   "source": [
    "import warnings\n",
    "warnings.simplefilter(action='ignore', category=FutureWarning)"
   ]
  },
  {
   "cell_type": "code",
   "execution_count": 3,
   "metadata": {},
   "outputs": [],
   "source": [
    "train = pd.read_csv('data/train.csv')\n",
    "test = pd.read_csv('data/test.csv')"
   ]
  },
  {
   "cell_type": "code",
   "execution_count": 119,
   "metadata": {},
   "outputs": [],
   "source": [
    "def prepare_dataset(train, test):\n",
    "    train = train.copy(); test = test.copy()\n",
    "    \n",
    "    dataset = pd.concat([train, test], keys=['train', 'test'])\n",
    "    dataset['TotalSF'] = dataset['TotalBsmtSF'] + dataset['1stFlrSF'] + dataset['2ndFlrSF']\n",
    "    dataset.drop(['TotalBsmtSF', '1stFlrSF', '2ndFlrSF'], axis=1, inplace=True)\n",
    "    \n",
    "    ## удалим столбцы, где слишком много пропусков\n",
    "    nans_dataset = dataset.isna().sum(axis=0).sort_values(ascending=False) / len(dataset)\n",
    "    many_missing = list(nans_dataset[nans_dataset>0.15].index)\n",
    "    dataset.drop(columns=many_missing, inplace=True)\n",
    "    \n",
    "    # заполняем пропуски\n",
    "    for col in ('GarageType', 'GarageFinish', 'GarageQual', \n",
    "                'BsmtQual', 'BsmtCond', 'BsmtExposure', 'BsmtFinType1', 'BsmtFinType2'):\n",
    "        dataset[col] = dataset[col].fillna('No')\n",
    "    \n",
    "    for col in dataset.columns:\n",
    "        if dataset[col].dtype == 'object':\n",
    "            dataset[col] = dataset[col].fillna(dataset[col].mode()[0])\n",
    "        else:\n",
    "            dataset[col] = dataset[col].fillna(dataset[col].mean())\n",
    "            \n",
    "            \n",
    "    # стандартизация        \n",
    "    num_cols = dataset.select_dtypes(['int64', 'float64']).columns\n",
    "    dataset[num_cols] = StandardScaler().fit_transform(dataset[num_cols])\n",
    "\n",
    "            \n",
    "    train_features = dataset.loc['train']\n",
    "    test_features = dataset.loc['test']\n",
    "    \n",
    "    # преобразуем категориальные переменные при помощи TargetEncoder\n",
    "    ce_target = ce.TargetEncoder()\n",
    "    train_features = ce_target.fit_transform(train_features, train['SalePrice'])\n",
    "    test_features = ce_target.transform(test_features)\n",
    "    \n",
    "    \n",
    "    return train_features, test_features\n",
    "    \n",
    "    "
   ]
  },
  {
   "cell_type": "code",
   "execution_count": 120,
   "metadata": {},
   "outputs": [],
   "source": [
    "trainP, testP = prepare_dataset(train, test)"
   ]
  },
  {
   "cell_type": "code",
   "execution_count": 78,
   "metadata": {},
   "outputs": [],
   "source": [
    "X = trainP\n",
    "y = np.log(train['SalePrice'])"
   ]
  },
  {
   "cell_type": "code",
   "execution_count": 82,
   "metadata": {},
   "outputs": [],
   "source": [
    "X_train, X_test, y_train, y_test = train_test_split(X, y, test_size=0.1, random_state=200)"
   ]
  },
  {
   "cell_type": "markdown",
   "metadata": {},
   "source": [
    "## Проверим несколько базовых моделей "
   ]
  },
  {
   "cell_type": "code",
   "execution_count": 100,
   "metadata": {},
   "outputs": [],
   "source": [
    "def get_score(preds, true, suff):    \n",
    "    return {f'r2_{suff}': r2_score(preds, true),\n",
    "            f'RMSE{suff}': np.sqrt(mean_squared_error(preds, true))}\n",
    "\n",
    "def train_test(model, X_train, X_test, y_train, y_test):\n",
    "    prediction_train = model.predict(X_train)\n",
    "    print(model.__class__.__name__)\n",
    "    prediction_test = model.predict(X_test)\n",
    "    \n",
    "    df = pd.DataFrame([{\"model\":  model.__class__.__name__,\n",
    "                   **get_score(prediction_train, y_train, 'train'),\n",
    "                   **get_score(prediction_test, y_test, 'test') \n",
    "                  }])\n",
    "    print(df)"
   ]
  },
  {
   "cell_type": "code",
   "execution_count": 101,
   "metadata": {},
   "outputs": [
    {
     "name": "stdout",
     "output_type": "stream",
     "text": [
      "AdaBoostRegressor\n",
      "               model  r2_train  RMSEtrain   r2_test  RMSEtest\n",
      "0  AdaBoostRegressor  0.854985   0.144918  0.815943  0.168833\n",
      "\n",
      "ExtraTreesRegressor\n",
      "                 model  r2_train  RMSEtrain   r2_test  RMSEtest\n",
      "0  ExtraTreesRegressor       1.0   0.000008  0.850061  0.153681\n",
      "\n",
      "GradientBoostingRegressor\n",
      "                       model  r2_train  RMSEtrain   r2_test  RMSEtest\n",
      "0  GradientBoostingRegressor  0.955743    0.08048  0.881299  0.136816\n",
      "\n",
      "RandomForestRegressor\n",
      "                   model  r2_train  RMSEtrain  r2_test  RMSEtest\n",
      "0  RandomForestRegressor  0.981528    0.05153  0.83977  0.156362\n",
      "\n"
     ]
    }
   ],
   "source": [
    "X_train, X_test, y_train, y_test = train_test_split(X, y, test_size=0.1, random_state=200)\n",
    "\n",
    "for model_class in (AdaBoostRegressor,\n",
    "                    ExtraTreesRegressor,\n",
    "                    GradientBoostingRegressor,\n",
    "                    RandomForestRegressor):\n",
    "    mod = model_class().fit(X_train, y_train)\n",
    "    train_test(mod, X_train, X_test, y_train, y_test)\n",
    "    print()\n",
    "    "
   ]
  },
  {
   "cell_type": "markdown",
   "metadata": {},
   "source": [
    "## Самым перспективным выглядит GradientBoostingRegressor"
   ]
  },
  {
   "cell_type": "markdown",
   "metadata": {},
   "source": [
    "## Настроим гиперпараметры:"
   ]
  },
  {
   "cell_type": "code",
   "execution_count": 103,
   "metadata": {},
   "outputs": [],
   "source": [
    "def rmse_sklearn(truth, predictions):\n",
    "    return mean_squared_error(truth, predictions) ** 0.5\n",
    "\n",
    "rmse_scorer = make_scorer(rmse_sklearn, greater_is_better=True, needs_proba=False)\n"
   ]
  },
  {
   "cell_type": "code",
   "execution_count": 88,
   "metadata": {
    "scrolled": true
   },
   "outputs": [
    {
     "name": "stdout",
     "output_type": "stream",
     "text": [
      "RMSE 0.125 params {'n_estimators': 200, 'max_depth': 2, 'max_features': 0.5, 'learning_rate': 0.05}                    \n",
      "RMSE 0.121 params {'n_estimators': 325, 'max_depth': 2, 'max_features': 0.55, 'learning_rate': 0.055}                  \n",
      "RMSE 0.121 params {'n_estimators': 250, 'max_depth': 3, 'max_features': 0.55, 'learning_rate': 0.055}                  \n",
      "RMSE 0.119 params {'n_estimators': 275, 'max_depth': 4, 'max_features': 0.45, 'learning_rate': 0.055}                  \n",
      "RMSE 0.122 params {'n_estimators': 250, 'max_depth': 5, 'max_features': 0.55, 'learning_rate': 0.045}                  \n",
      "RMSE 0.123 params {'n_estimators': 350, 'max_depth': 5, 'max_features': 0.5, 'learning_rate': 0.05}                    \n",
      "RMSE 0.121 params {'n_estimators': 275, 'max_depth': 3, 'max_features': 0.45, 'learning_rate': 0.06}                   \n",
      "RMSE 0.121 params {'n_estimators': 325, 'max_depth': 3, 'max_features': 0.6000000000000001, 'learning_rate': 0.055}    \n",
      "RMSE 0.121 params {'n_estimators': 350, 'max_depth': 3, 'max_features': 0.6000000000000001, 'learning_rate': 0.045}    \n",
      "RMSE 0.123 params {'n_estimators': 375, 'max_depth': 5, 'max_features': 0.45, 'learning_rate': 0.045}                  \n",
      "100%|██████████████████████████████████████████████████| 10/10 [00:55<00:00,  5.51s/it, best loss: 0.11876207944079745]\n"
     ]
    }
   ],
   "source": [
    "def objective(params):\n",
    "    params = {'n_estimators': int(params['n_estimators']), \n",
    "              'max_depth': int(params['max_depth']),\n",
    "              'max_features': params['max_features'],\n",
    "              'learning_rate': params['learning_rate'],\n",
    "             }\n",
    "    \n",
    "    gb = GradientBoostingRegressor(**params)\n",
    "    score = cross_val_score(gb, X, y, scoring=rmse_scorer, cv=5).mean()\n",
    "    print(\"RMSE {:.3f} params {}\".format(score, params))\n",
    "    return score\n",
    "\n",
    "space_gb = {\n",
    "    'n_estimators': hp.quniform('n_estimators', 200, 400, 25),\n",
    "    'max_depth': hp.quniform('max_depth', 2, 5, 1),\n",
    "    'max_features': hp.quniform('max_features', 0.3, 0.6, 0.05),\n",
    "    'learning_rate': hp.quniform('learning_rate', 0.04, 0.06, 0.005)\n",
    "}\n",
    "\n",
    "best = fmin(fn=objective,\n",
    "            space=space_gb,\n",
    "            algo=tpe.suggest,\n",
    "            max_evals=10)"
   ]
  },
  {
   "cell_type": "code",
   "execution_count": 104,
   "metadata": {},
   "outputs": [
    {
     "data": {
      "text/plain": [
       "{'learning_rate': 0.055,\n",
       " 'max_depth': 4.0,\n",
       " 'max_features': 0.45,\n",
       " 'n_estimators': 275.0}"
      ]
     },
     "execution_count": 104,
     "metadata": {},
     "output_type": "execute_result"
    }
   ],
   "source": [
    "# лучшие параметры\n",
    "best"
   ]
  },
  {
   "cell_type": "code",
   "execution_count": 116,
   "metadata": {},
   "outputs": [
    {
     "data": {
      "text/plain": [
       "(0.11914520115408318, 0.008251187553808005)"
      ]
     },
     "execution_count": 116,
     "metadata": {},
     "output_type": "execute_result"
    }
   ],
   "source": [
    "gb = GradientBoostingRegressor(learning_rate=0.055, max_depth=4, max_features=0.45, n_estimators=275)\n",
    "res = cross_val_score(gb, X, y, cv=5, scoring='neg_root_mean_squared_error')\n",
    "-res.mean(), res.std()"
   ]
  },
  {
   "cell_type": "markdown",
   "metadata": {},
   "source": [
    "## Проверили, убедились при помощи кросс-валидации в устойчивости результатов\n",
    "## Значение RMSE устойчиво на 0.12"
   ]
  },
  {
   "cell_type": "code",
   "execution_count": null,
   "metadata": {},
   "outputs": [],
   "source": []
  }
 ],
 "metadata": {
  "kernelspec": {
   "display_name": "Python [conda env:nvb2]",
   "language": "python",
   "name": "conda-env-nvb2-py"
  },
  "language_info": {
   "codemirror_mode": {
    "name": "ipython",
    "version": 3
   },
   "file_extension": ".py",
   "mimetype": "text/x-python",
   "name": "python",
   "nbconvert_exporter": "python",
   "pygments_lexer": "ipython3",
   "version": "3.7.5"
  }
 },
 "nbformat": 4,
 "nbformat_minor": 2
}
