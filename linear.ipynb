{
 "cells": [
  {
   "cell_type": "code",
   "execution_count": 308,
   "metadata": {},
   "outputs": [],
   "source": [
    "import pandas as pd\n",
    "import numpy as np\n",
    "\n",
    "import category_encoders as ce\n",
    "\n",
    "from sklearn.model_selection import train_test_split, cross_val_score, GridSearchCV\n",
    "\n",
    "from sklearn.preprocessing import StandardScaler\n",
    "\n",
    "from sklearn.metrics import r2_score, mean_squared_error, make_scorer\n",
    "import seaborn as sns#seaborn"
   ]
  },
  {
   "cell_type": "code",
   "execution_count": 309,
   "metadata": {},
   "outputs": [],
   "source": [
    "import sklearn.linear_model\n",
    "import sklearn.model_selection\n",
    "import sklearn.metrics\n",
    "import sklearn.preprocessing\n",
    "import sklearn.feature_extraction\n",
    "\n",
    "\n",
    "%matplotlib inline\n",
    "\n",
    "import matplotlib.pyplot as plt\n",
    "from pprint import pformat\n",
    "plt.style.use('ggplot')\n",
    "import warnings\n",
    "warnings.filterwarnings('ignore')"
   ]
  },
  {
   "cell_type": "code",
   "execution_count": 310,
   "metadata": {},
   "outputs": [],
   "source": [
    "from sklearn.linear_model import LinearRegression, Lasso, Ridge\n",
    "from sklearn.linear_model import LassoCV, RidgeCV\n",
    "from sklearn.preprocessing import StandardScaler\n",
    "from sklearn.metrics import mean_squared_error\n",
    "from sklearn.metrics import r2_score"
   ]
  },
  {
   "cell_type": "code",
   "execution_count": 311,
   "metadata": {},
   "outputs": [],
   "source": [
    "def train_validate_report(model, X_train, y_train, X_valid, y_valid, feature_names):\n",
    "    model.fit(X_train, y_train)\n",
    "    predict = model.predict(X_valid);\n",
    "    print('RMSE:' , np.sqrt(mean_squared_error(y_valid, predict)))\n",
    "    print('R^2:' , r2_score(y_valid, predict))\n",
    "\n",
    "    #print(pd.DataFrame(model.coef_, feature_names, columns=['coef']).sort_values(by='coef', ascending=False))"
   ]
  },
  {
   "cell_type": "code",
   "execution_count": 312,
   "metadata": {},
   "outputs": [],
   "source": [
    "def code_myohe(data, feature):\n",
    "    feature = str(feature)\n",
    "    for i in data[feature].unique():\n",
    "        i = str(i)\n",
    "        data[feature + '=' + i] = (data[feature] == i).astype(int)\n",
    "    data = data.drop(feature, axis=1)\n",
    "    return data\n",
    "\n",
    "def transofrm_categorial_columns(data):\n",
    "    temp_df = data.copy(deep=True)\n",
    "    categorical_columns = data.columns[data.dtypes == 'object']\n",
    "    for column_name in categorical_columns:\n",
    "        temp_df = code_myohe(temp_df, column_name)\n",
    "    return temp_df"
   ]
  },
  {
   "cell_type": "code",
   "execution_count": 313,
   "metadata": {},
   "outputs": [],
   "source": [
    "linreg = LinearRegression()\n",
    "lasso = Lasso(random_state = 42)\n",
    "ridge = Ridge(random_state = 42)\n",
    "lasso_cv = LassoCV(random_state = 42)\n",
    "ridge_cv = RidgeCV()"
   ]
  },
  {
   "cell_type": "code",
   "execution_count": 314,
   "metadata": {},
   "outputs": [],
   "source": [
    "def code_myohe(data, feature):\n",
    "    feature = str(feature)\n",
    "    for i in data[feature].unique():\n",
    "        i = str(i)\n",
    "        data[feature + '=' + i] = (data[feature] == i).astype(float)\n",
    "    data = data.drop(feature, axis=1)\n",
    "    return data\n",
    "\n",
    "def transofrm_categorial_columns(data):\n",
    "    temp_df = data.copy(deep=True)\n",
    "    categorical_columns = data.columns[data.dtypes == 'object']\n",
    "    for column_name in categorical_columns:\n",
    "        temp_df = code_myohe(temp_df, column_name)\n",
    "    return temp_df"
   ]
  },
  {
   "cell_type": "code",
   "execution_count": 315,
   "metadata": {},
   "outputs": [],
   "source": [
    "def prepare_dataset(train, test):\n",
    "    train = train.copy(); test = test.copy()\n",
    "    \n",
    "    dataset = pd.concat([train, test], keys=['train', 'test'])\n",
    "    ##dataset['TotalSF'] = dataset['TotalBsmtSF'] + dataset['1stFlrSF'] + dataset['2ndFlrSF']\n",
    "    ##dataset.drop(['TotalBsmtSF', '1stFlrSF', '2ndFlrSF'], axis=1, inplace=True)\n",
    "    \n",
    "    #### удалим столбцы, где слишком много пропусков\n",
    "    ##nans_dataset = dataset.isna().sum(axis=0).sort_values(ascending=False) / len(dataset)\n",
    "    ##many_missing = list(nans_dataset[nans_dataset>0.15].index)\n",
    "    ##dataset.drop(columns=many_missing, inplace=True)\n",
    "    \n",
    "    # заполняем пропуски\n",
    "    #for col in ('GarageType', 'GarageFinish', 'GarageQual', \n",
    "    #            'BsmtQual', 'BsmtCond', 'BsmtExposure', 'BsmtFinType1', 'BsmtFinType2'):\n",
    "    #    dataset[col] = dataset[col].fillna('NAN')\n",
    "    \n",
    "    for col in dataset.columns:\n",
    "        if dataset[col].dtype == 'object':\n",
    "            dataset[col] = dataset[col].fillna(dataset[col].mode()[0])\n",
    "        else:\n",
    "            dataset[col] = dataset[col].fillna(dataset[col].mean())\n",
    "            \n",
    "            \n",
    "    ### стандартизация        \n",
    "    ##num_cols = dataset.select_dtypes(['int64', 'float64']).columns\n",
    "    ##dataset[num_cols] = StandardScaler().fit_transform(dataset[num_cols])\n",
    "\n",
    "            \n",
    "    train_features = dataset.loc['train']\n",
    "    test_features = dataset.loc['test']\n",
    "    \n",
    "    # преобразуем категориальные переменные при помощи TargetEncoder\n",
    "    ce_target = ce.TargetEncoder()\n",
    "    train_features = ce_target.fit_transform(train_features, train['SalePrice'])\n",
    "    test_features = ce_target.transform(test_features)\n",
    "    ##train_features = transofrm_categorial_columns(train_features)\n",
    "    ##test_features = transofrm_categorial_columns(test_features)\n",
    "    \n",
    "    return train_features, test_features"
   ]
  },
  {
   "cell_type": "code",
   "execution_count": 316,
   "metadata": {},
   "outputs": [],
   "source": [
    "train = pd.read_csv('data/train.csv')\n",
    "test = pd.read_csv('data/test.csv')"
   ]
  },
  {
   "cell_type": "code",
   "execution_count": 317,
   "metadata": {},
   "outputs": [],
   "source": [
    "trainP, testP = prepare_dataset(train, test)\n",
    "trainP = trainP.drop(['Id'], axis=1);\n",
    "testP = testP.drop(['Id'], axis=1);"
   ]
  },
  {
   "cell_type": "code",
   "execution_count": 318,
   "metadata": {},
   "outputs": [],
   "source": [
    "X = trainP\n",
    "y = np.log(train['SalePrice'])"
   ]
  },
  {
   "cell_type": "code",
   "execution_count": 319,
   "metadata": {},
   "outputs": [],
   "source": [
    "X_train, X_test, y_train, y_test = train_test_split(X, y, test_size=0.4, random_state=1547)"
   ]
  },
  {
   "cell_type": "code",
   "execution_count": 320,
   "metadata": {},
   "outputs": [],
   "source": [
    "from sklearn.linear_model import LinearRegression, Lasso, Ridge\n",
    "from sklearn.linear_model import LassoCV, RidgeCV"
   ]
  },
  {
   "cell_type": "code",
   "execution_count": 321,
   "metadata": {},
   "outputs": [],
   "source": [
    "linreg = LinearRegression()\n",
    "lasso = Lasso(random_state = 1547)\n",
    "ridge = Ridge(random_state = 1547)\n",
    "lasso_cv = LassoCV(random_state = 1547)\n",
    "ridge_cv = RidgeCV()"
   ]
  },
  {
   "cell_type": "code",
   "execution_count": 322,
   "metadata": {},
   "outputs": [],
   "source": [
    "def train_validate_report(model, X_train, y_train, X_valid, y_valid, feature_names):\n",
    "    model.fit(X_train, y_train)\n",
    "    predict = model.predict(X_valid);\n",
    "    print('RMSE:' , np.sqrt(mean_squared_error(y_valid, predict)))\n",
    "    print('R^2:' , r2_score(y_valid, predict))\n",
    "    #print(pd.DataFrame(model.coef_, feature_names, columns=['coef']).sort_values(by='coef', ascending=False))"
   ]
  },
  {
   "cell_type": "code",
   "execution_count": 323,
   "metadata": {},
   "outputs": [
    {
     "name": "stdout",
     "output_type": "stream",
     "text": [
      "RMSE: 0.11665357812483661\n",
      "R^2: 0.9122738288172421\n"
     ]
    }
   ],
   "source": [
    "train_validate_report(linreg, X_train, y_train, X_test, y_test, X_train.columns)"
   ]
  },
  {
   "cell_type": "code",
   "execution_count": 324,
   "metadata": {},
   "outputs": [
    {
     "name": "stdout",
     "output_type": "stream",
     "text": [
      "RMSE: 0.11019840046078515\n",
      "R^2: 0.9217140858083812\n"
     ]
    }
   ],
   "source": [
    "train_validate_report(lasso, X_train, y_train, X_test, y_test, X_train.columns)"
   ]
  },
  {
   "cell_type": "code",
   "execution_count": 325,
   "metadata": {},
   "outputs": [
    {
     "name": "stdout",
     "output_type": "stream",
     "text": [
      "RMSE: 0.11658990610479647\n",
      "R^2: 0.9123695683259885\n"
     ]
    }
   ],
   "source": [
    "train_validate_report(ridge, X_train, y_train, X_test, y_test, X_train.columns)"
   ]
  },
  {
   "cell_type": "code",
   "execution_count": 326,
   "metadata": {},
   "outputs": [
    {
     "name": "stdout",
     "output_type": "stream",
     "text": [
      "RMSE: 0.11594136671551697\n",
      "R^2: 0.9133417574831512\n"
     ]
    }
   ],
   "source": [
    "train_validate_report(lasso_cv, X_train, y_train, X_test, y_test, X_train.columns)"
   ]
  },
  {
   "cell_type": "code",
   "execution_count": 327,
   "metadata": {},
   "outputs": [
    {
     "name": "stdout",
     "output_type": "stream",
     "text": [
      "RMSE: 0.11674168881262012\n",
      "R^2: 0.9121412562452472\n"
     ]
    }
   ],
   "source": [
    "train_validate_report(ridge_cv, X_train, y_train, X_test, y_test, X_train.columns)"
   ]
  },
  {
   "cell_type": "code",
   "execution_count": 328,
   "metadata": {},
   "outputs": [],
   "source": [
    "predictions = lasso.predict(testP)\n",
    "test_id = test['Id']\n",
    "res = pd.DataFrame({\"Id\": test_id, \"SalePrice\": predictions})\n",
    "res.to_csv('predict_linear.csv', index=False)"
   ]
  },
  {
   "cell_type": "code",
   "execution_count": 329,
   "metadata": {},
   "outputs": [
    {
     "data": {
      "text/html": [
       "<div>\n",
       "<style scoped>\n",
       "    .dataframe tbody tr th:only-of-type {\n",
       "        vertical-align: middle;\n",
       "    }\n",
       "\n",
       "    .dataframe tbody tr th {\n",
       "        vertical-align: top;\n",
       "    }\n",
       "\n",
       "    .dataframe thead th {\n",
       "        text-align: right;\n",
       "    }\n",
       "</style>\n",
       "<table border=\"1\" class=\"dataframe\">\n",
       "  <thead>\n",
       "    <tr style=\"text-align: right;\">\n",
       "      <th></th>\n",
       "      <th>Id</th>\n",
       "      <th>SalePrice</th>\n",
       "    </tr>\n",
       "  </thead>\n",
       "  <tbody>\n",
       "    <tr>\n",
       "      <th>0</th>\n",
       "      <td>1461</td>\n",
       "      <td>11.892095</td>\n",
       "    </tr>\n",
       "    <tr>\n",
       "      <th>1</th>\n",
       "      <td>1462</td>\n",
       "      <td>12.012517</td>\n",
       "    </tr>\n",
       "    <tr>\n",
       "      <th>2</th>\n",
       "      <td>1463</td>\n",
       "      <td>12.114008</td>\n",
       "    </tr>\n",
       "    <tr>\n",
       "      <th>3</th>\n",
       "      <td>1464</td>\n",
       "      <td>12.158800</td>\n",
       "    </tr>\n",
       "    <tr>\n",
       "      <th>4</th>\n",
       "      <td>1465</td>\n",
       "      <td>12.090195</td>\n",
       "    </tr>\n",
       "  </tbody>\n",
       "</table>\n",
       "</div>"
      ],
      "text/plain": [
       "     Id  SalePrice\n",
       "0  1461  11.892095\n",
       "1  1462  12.012517\n",
       "2  1463  12.114008\n",
       "3  1464  12.158800\n",
       "4  1465  12.090195"
      ]
     },
     "execution_count": 329,
     "metadata": {},
     "output_type": "execute_result"
    }
   ],
   "source": [
    "res.head()"
   ]
  },
  {
   "cell_type": "code",
   "execution_count": null,
   "metadata": {},
   "outputs": [],
   "source": []
  }
 ],
 "metadata": {
  "kernelspec": {
   "display_name": "Python 3",
   "language": "python",
   "name": "python3"
  },
  "language_info": {
   "codemirror_mode": {
    "name": "ipython",
    "version": 3
   },
   "file_extension": ".py",
   "mimetype": "text/x-python",
   "name": "python",
   "nbconvert_exporter": "python",
   "pygments_lexer": "ipython3",
   "version": "3.6.4"
  }
 },
 "nbformat": 4,
 "nbformat_minor": 2
}
